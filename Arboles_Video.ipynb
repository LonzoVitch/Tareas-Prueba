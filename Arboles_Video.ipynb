{
  "nbformat": 4,
  "nbformat_minor": 0,
  "metadata": {
    "colab": {
      "name": "Arboles_Video.ipynb",
      "provenance": [],
      "authorship_tag": "ABX9TyP4VqbOtrzL3scttzqW/coi",
      "include_colab_link": true
    },
    "kernelspec": {
      "name": "python3",
      "display_name": "Python 3"
    },
    "language_info": {
      "name": "python"
    }
  },
  "cells": [
    {
      "cell_type": "markdown",
      "metadata": {
        "id": "view-in-github",
        "colab_type": "text"
      },
      "source": [
        "<a href=\"https://colab.research.google.com/github/LonzoVitch/Tareas-Prueba/blob/main/Arboles_Video.ipynb\" target=\"_parent\"><img src=\"https://colab.research.google.com/assets/colab-badge.svg\" alt=\"Open In Colab\"/></a>"
      ]
    },
    {
      "cell_type": "code",
      "metadata": {
        "id": "bH6OIk_J4y1I"
      },
      "source": [
        "class BinaryNode:\n",
        "  def __init__( self, value, left=None, right=None):\n",
        "    self.data = value\n",
        "    self.left = left\n",
        "    self.right = right\n",
        "  \n",
        "class BinarySearchTree:\n",
        "  def __init__( self ):\n",
        "    self.root = None\n",
        "\n",
        "  def insert( self, value ):\n",
        "    if self.root == None:\n",
        "      self.root = BinaryNode( value )\n",
        "    else:\n",
        "      self.__insert_nodo( self.root, value )\n",
        "\n",
        "  def __insert_nodo(self, nodo, value ):\n",
        "    if nodo.data == value:\n",
        "      pass\n",
        "    elif value < nodo.data:\n",
        "      if nodo.left == None:\n",
        "        nodo.left = BinaryNode( value )\n",
        "      else:\n",
        "        self.__insert_nodo( nodo.left , value )\n",
        "    else:\n",
        "      if nodo.right == None:\n",
        "        nodo.right = BinaryNode( value )\n",
        "      else:\n",
        "        self.__insert_nodo( nodo.right, value )\n",
        "\n",
        "\n",
        "  def transversal( self , formato = \"posorden\"):\n",
        "    if formato == \"posorden\":\n",
        "      self.recorrido_pos( self.root )\n",
        "    elif formato == \"preorden\":\n",
        "      self.recorrido_pre(self.root )\n",
        "    else:\n",
        "      self.recorrido_in( self.root )\n",
        "    print(\"\")\n",
        "\n",
        "  def recorrido_pos( self, nodo ):\n",
        "    if nodo != None:\n",
        "      self.recorrido_pos( nodo.left )\n",
        "      self.recorrido_pos( nodo.right )\n",
        "      print( str(nodo.data), end=\" , \" )\n",
        "\n",
        "  def recorrido_pre( self, nodo ):\n",
        "    if nodo != None:\n",
        "      print( str(nodo.data) , end=\" , \" )\n",
        "      self.recorrido_pre( nodo.left )\n",
        "      self.recorrido_pre( nodo.right )\n",
        "\n",
        "  def recorrido_in( self, nodo ):\n",
        "    if nodo != None:\n",
        "      self.recorrido_in( nodo.left )\n",
        "      print( str(nodo.data) , end=\" , \"  )\n",
        "      self.recorrido_in( nodo.right )\n",
        "\n",
        "  def search( self, value):\n",
        "    if self.root == None:\n",
        "      print(\"El árbol está vacío\")\n",
        "      return None\n",
        "\n",
        "    else:\n",
        "      self.__search( self.root, value)\n",
        "\n",
        "  def __search( self, nodo, value):\n",
        "    if nodo.data == None: \n",
        "      print(\"El dato no existe en el árbol\")\n",
        "      return None\n",
        "    elif nodo.data == value:\n",
        "      print(\"Encontrado\")\n",
        "      return nodo\n",
        "    elif value < nodo.data:\n",
        "      return self.__buscar( nodo.left,value )\n",
        "    else:\n",
        "      return self.__buscar( nodo.right ,value )\n",
        "\n",
        "\n",
        "  \n",
        "\n"
      ],
      "execution_count": 30,
      "outputs": []
    },
    {
      "cell_type": "code",
      "metadata": {
        "colab": {
          "base_uri": "https://localhost:8080/"
        },
        "id": "ZmmwSGZn7fNc",
        "outputId": "286f0ead-880c-4051-a2eb-c48f0084c141"
      },
      "source": [
        "arb1 = BinarySearchTree()\n",
        "arb1.insert(60)\n",
        "arb1.insert(30)\n",
        "arb1.insert(15)\n",
        "arb1.insert(40)\n",
        "arb1.transversal()\n",
        "arb1.transversal(\"preorden\")"
      ],
      "execution_count": 31,
      "outputs": [
        {
          "output_type": "stream",
          "name": "stdout",
          "text": [
            "15 , 40 , 30 , 60 , \n",
            "60 , 30 , 15 , 40 , \n"
          ]
        }
      ]
    }
  ]
}