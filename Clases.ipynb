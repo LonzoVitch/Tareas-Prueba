{
  "nbformat": 4,
  "nbformat_minor": 0,
  "metadata": {
    "colab": {
      "name": "Clases",
      "provenance": [],
      "authorship_tag": "ABX9TyN4jusoPwBapHFi/0Ds+nLh",
      "include_colab_link": true
    },
    "kernelspec": {
      "name": "python3",
      "display_name": "Python 3"
    },
    "language_info": {
      "name": "python"
    }
  },
  "cells": [
    {
      "cell_type": "markdown",
      "metadata": {
        "id": "view-in-github",
        "colab_type": "text"
      },
      "source": [
        "<a href=\"https://colab.research.google.com/github/LonzoVitch/Tareas-Prueba/blob/main/Clases.ipynb\" target=\"_parent\"><img src=\"https://colab.research.google.com/assets/colab-badge.svg\" alt=\"Open In Colab\"/></a>"
      ]
    },
    {
      "cell_type": "code",
      "metadata": {
        "id": "J3xabaZyj8L_"
      },
      "source": [
        "class Persona:\n",
        "  def __init__( self, n, e, est ):\n",
        "    self.__nombre = n\n",
        "    self.__edad = e\n",
        "    self.__estatura = est\n",
        "\n",
        "  def to__string(self):\n",
        "    return \"Nombre: \" + self.__nombre +\"Edad: \" + str(self.__edad) + \"Estatura: \" +str(self.__estatura)\n",
        "  \n",
        "  def set_estatura( self, nueva_est):\n",
        "    if nueva_est > 0.10 and nueva_est < 2.5 :\n",
        "      self.__estatura = nueva_est\n",
        "    else:\n",
        "      print(\"Error: No es posible esa altura\")\n",
        "  \n",
        "  def get__estatura( self ):\n",
        "    return self.__estatura\n",
        "      "
      ],
      "execution_count": 17,
      "outputs": []
    },
    {
      "cell_type": "code",
      "metadata": {
        "colab": {
          "base_uri": "https://localhost:8080/"
        },
        "id": "_tbENXuWkg5P",
        "outputId": "72d7df01-d78e-406d-85e6-73cc01e6c308"
      },
      "source": [
        "per = Persona(\"Jose\", 19, 1.70)\n",
        "print(per.to__string())\n",
        "\n",
        "#Encapsulamiento\n",
        "\n",
        "per.nombre = \"Pedro\" #No se recomienda, rompe la lógica\n",
        "print(per.to__string())\n",
        "\n",
        "#per.estatura = 3.9\n",
        "#print(per.to__string())\n",
        "per.set_estatura(1.9)\n",
        "print(per.to__string())\n",
        "\n",
        "print(\"Estatura: \", end=\"\")\n",
        "#print(per.__estatura)\n",
        "print(per.get__estatura())\n"
      ],
      "execution_count": 18,
      "outputs": [
        {
          "output_type": "stream",
          "name": "stdout",
          "text": [
            "Nombre: JoseEdad: 19Estatura: 1.7\n",
            "Nombre: JoseEdad: 19Estatura: 1.7\n",
            "Nombre: JoseEdad: 19Estatura: 1.9\n",
            "Estatura: 1.9\n"
          ]
        }
      ]
    },
    {
      "cell_type": "code",
      "metadata": {
        "id": "-64BogdbydTD"
      },
      "source": [
        "#Herencia\n",
        "class Estudiante( Persona ):\n",
        "  def _init_(self ,nc,nombre,edad,est):\n",
        "    self.__num_cta = nc\n",
        "    super()._init_(nombre,edad,est)\n",
        "\n",
        "  def to_string( self ):\n",
        "    return super().to_string() + \"Numero de cuenta: \" + self.__num_cta"
      ],
      "execution_count": 28,
      "outputs": []
    }
  ]
}