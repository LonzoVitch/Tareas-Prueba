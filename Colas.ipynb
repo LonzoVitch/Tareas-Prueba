{
  "nbformat": 4,
  "nbformat_minor": 0,
  "metadata": {
    "colab": {
      "name": "Colas.ipynb",
      "provenance": [],
      "authorship_tag": "ABX9TyNX6BZ+SZrzjiGjbMQyAHpZ",
      "include_colab_link": true
    },
    "kernelspec": {
      "name": "python3",
      "display_name": "Python 3"
    },
    "language_info": {
      "name": "python"
    }
  },
  "cells": [
    {
      "cell_type": "markdown",
      "metadata": {
        "id": "view-in-github",
        "colab_type": "text"
      },
      "source": [
        "<a href=\"https://colab.research.google.com/github/LonzoVitch/Tareas-Prueba/blob/main/Colas.ipynb\" target=\"_parent\"><img src=\"https://colab.research.google.com/assets/colab-badge.svg\" alt=\"Open In Colab\"/></a>"
      ]
    },
    {
      "cell_type": "code",
      "metadata": {
        "id": "T3tInpe9-SwW"
      },
      "source": [
        "class Queue:\n",
        " def __init__( self ):\n",
        "   self.data = []\n",
        "\n",
        " def is_empty( self ):\n",
        "    return len( self.data ) == 0\n",
        "\n",
        " def lenght( self ):\n",
        "    return len( self.data )\n",
        "\n",
        " def enqueue( self, value ):\n",
        "    self.data.append( value )\n",
        "\n",
        " def dequeue( self ):\n",
        "    return self.data.pop(0)\n",
        "\n",
        " def to_string( self ):\n",
        "    for elem in self.data:\n",
        "      print(f\"|{ elem }| <--\", end=\"\")\n",
        "    print(\"\")"
      ],
      "execution_count": null,
      "outputs": []
    },
    {
      "cell_type": "code",
      "metadata": {
        "colab": {
          "base_uri": "https://localhost:8080/"
        },
        "id": "3t2fZdbXMmAC",
        "outputId": "72eef172-20a5-4c2d-aa4f-3047fd221ec1"
      },
      "source": [
        "cola = Queue()\n",
        "print(\"Esta vacío?: \", cola.is_empty())\n",
        "print(\"Numero de elementos\" , cola.lenght())\n",
        "cola.enqueue(10)\n",
        "cola.enqueue(20)\n",
        "cola.enqueue(30)\n",
        "print(\"Esta vacío?: \", cola.is_empty())\n",
        "print(\"Numero de elementos\" , cola.lenght())\n",
        "cola.enqueue(40)\n",
        "cola.enqueue(50)\n",
        "cola.enqueue(60)\n",
        "cola.to_string()\n",
        "siguiente = cola.dequeue()\n",
        "print(\"Atendiendo a:\" , siguiente)\n",
        "cola.to_string()"
      ],
      "execution_count": null,
      "outputs": [
        {
          "output_type": "stream",
          "name": "stdout",
          "text": [
            "Esta vacío?:  True\n",
            "Numero de elementos 0\n",
            "Esta vacío?:  False\n",
            "Numero de elementos 3\n",
            "|10| <--|20| <--|30| <--|40| <--|50| <--|60| <--\n",
            "Atendiendo a: 10\n",
            "|20| <--|30| <--|40| <--|50| <--|60| <--\n"
          ]
        }
      ]
    }
  ]
}