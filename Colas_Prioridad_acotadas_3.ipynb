{
  "nbformat": 4,
  "nbformat_minor": 0,
  "metadata": {
    "colab": {
      "name": "Colas_Prioridad_acotadas 3.ipynb",
      "provenance": [],
      "authorship_tag": "ABX9TyP9C1V1nmIm9sH3BRBP/bq8",
      "include_colab_link": true
    },
    "kernelspec": {
      "name": "python3",
      "display_name": "Python 3"
    },
    "language_info": {
      "name": "python"
    }
  },
  "cells": [
    {
      "cell_type": "markdown",
      "metadata": {
        "id": "view-in-github",
        "colab_type": "text"
      },
      "source": [
        "<a href=\"https://colab.research.google.com/github/LonzoVitch/Tareas-Prueba/blob/main/Colas_Prioridad_acotadas_3.ipynb\" target=\"_parent\"><img src=\"https://colab.research.google.com/assets/colab-badge.svg\" alt=\"Open In Colab\"/></a>"
      ]
    },
    {
      "cell_type": "code",
      "metadata": {
        "id": "Xnd98nfyO4CY"
      },
      "source": [
        "class Queue:\n",
        " def __init__( self ):\n",
        "   self.data = []\n",
        "\n",
        " def is_empty( self ):\n",
        "    return len( self.data ) == 0\n",
        "\n",
        " def lenght( self ):\n",
        "    return len( self.data )\n",
        "\n",
        " def enqueue( self, value ):\n",
        "    self.data.append( value )\n",
        "\n",
        " def dequeue( self ):\n",
        "    return self.data.pop(0)\n",
        "\n",
        " def to_string( self ):\n",
        "    for elem in self.data:\n",
        "      print(f\"|{ elem }| <--\", end=\"\")\n",
        "    print(\"\")"
      ],
      "execution_count": 28,
      "outputs": []
    },
    {
      "cell_type": "code",
      "metadata": {
        "id": "fTasCE57EbQs"
      },
      "source": [
        "class BoundedPriorityQueue:\n",
        "  def __init__( self, niveles ):\n",
        "    self.__data = [ Queue() for x in range(niveles) ] #Niveles es para rango de nivel maximo, se recibe en el constructor empezando desde 0 \n",
        "    #self.__data = Array(niveles)\n",
        "    #self.__data.clear( Queue() )\n",
        "    self.__size = 0   #Almacenar el numero de elementos ingresados\n",
        "  \n",
        "  def is_empty( self ):\n",
        "    return self.__size == 0\n",
        "\n",
        "  def lenght( self ):\n",
        "    return self.__size\n",
        "\n",
        "  def enqueue( self, prioridad, elem):\n",
        "    if prioridad < len( self.__data ) and prioridad >= 0:\n",
        "      self.__data[ prioridad ].enqueue( elem )\n",
        "      self.__size += 1\n",
        "\n",
        "  def dequeue( self ):\n",
        "    nivel = 0 \n",
        "    while self.__data[nivel].is_empty() and nivel < self.lenght():\n",
        "        nivel += 1\n",
        "\n",
        "    if nivel >= self.lenght():\n",
        "      print(\"Cola esta vacia\")\n",
        "    else:\n",
        "      return self.__data[ nivel ].dequeue()\n",
        "\n",
        "  def to_string(self):\n",
        "    prioridad = 0 \n",
        "    for cola in self.__data:\n",
        "      print(f\"Prioridad {prioridad} ->\", end=\"\")\n",
        "      cola.to_string()\n",
        "      prioridad +=1"
      ],
      "execution_count": 51,
      "outputs": []
    },
    {
      "cell_type": "code",
      "metadata": {
        "id": "eoNHi5doMoYO"
      },
      "source": [
        "#Prueba de cola con prioridad\n",
        "salvavidas = BoundedPriorityQueue( 7 )\n",
        "salvavidas.enqueue( 4, \"Maestre \")\n",
        "salvavidas.enqueue( 1, \"Niños\" )\n",
        "salvavidas.enqueue( 4, \"Mecanico\" )\n",
        "salvavidas.enqueue( 3, \"Mujeres\" )\n",
        "salvavidas.enqueue( 2, \"Tercera edad\" )\n",
        "salvavidas.enqueue( 1, \"Niñas\" )\n",
        "salvavidas.enqueue( 3, \"Hombres\" )\n",
        "salvavidas.enqueue( 4, \"Vigia\" )\n",
        "salvavidas.enqueue( 5, \"Capitan\" )\n",
        "salvavidas.enqueue( 4, \"Timonel\" )\n",
        "salvavidas.to_string()\n",
        "print(\"\")\n",
        "sig = salvavidas.dequeue()\n",
        "print(f\"Subiendo {sig} al bote salvavidas\")\n",
        "salvavidas.to_string()\n",
        "print(\"\")\n",
        "sig = salvavidas.dequeue()\n",
        "print(f\"Subiendo {sig} al bote salvavidas\")\n",
        "salvavidas.to_string()"
      ],
      "execution_count": null,
      "outputs": []
    },
    {
      "cell_type": "code",
      "metadata": {
        "id": "dDYm_QneR0EP"
      },
      "source": [
        "#Implementando colas de prioridad sin acotamiento\n",
        "\n",
        "class PriorityQueue:\n",
        "  def __init__( self ):\n",
        "    self.__data = []\n",
        "    self.__size = 0\n",
        "\n",
        "  def is_empty( self ):\n",
        "    return len( self.data ) == 0\n",
        "\n",
        "  def lenght( self ):\n",
        "    return self.__size \n",
        "\n",
        "  def enqueue(self, prioridad, elem):\n",
        "    existe = False\n",
        "    indice = 0\n",
        "    for index in range(len(self.__data)):\n",
        "      if self.__data[index][\"prioridad\"] == prioridad:\n",
        "        existe = True\n",
        "        indice = index \n",
        "\n",
        "    if existe:\n",
        "      self.__data[indice][cola].enqueue(elem)\n",
        "    else:\n",
        "      self.__data.append( {\"prioridad\":prioridad, \"cola\": Queue() } )\n",
        "      self.__data[-1][\"cola\"].enqueue(elem)\n",
        "\n",
        "  def to_string( self ):\n",
        "    for cola in self.__data:\n",
        "      cola[\"cola\"].to_string()\n",
        "\n"
      ],
      "execution_count": 84,
      "outputs": []
    },
    {
      "cell_type": "code",
      "metadata": {
        "colab": {
          "base_uri": "https://localhost:8080/"
        },
        "id": "vgWCyvtdTCxh",
        "outputId": "3cf4ab71-7f65-4cce-dd18-4d7eca62adfd"
      },
      "source": [
        "cp= PriorityQueue()\n",
        "cp.enqueue(1,\"Niños\")\n",
        "cp.enqueue(2,\"Niñas\")\n",
        "\n",
        "cp.to_string()"
      ],
      "execution_count": 85,
      "outputs": [
        {
          "output_type": "stream",
          "name": "stdout",
          "text": [
            "|Niños| <--\n",
            "|Niñas| <--\n"
          ]
        }
      ]
    }
  ]
}