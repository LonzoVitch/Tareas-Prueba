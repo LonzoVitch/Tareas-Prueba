{
  "nbformat": 4,
  "nbformat_minor": 0,
  "metadata": {
    "colab": {
      "name": "Intento de Programa",
      "provenance": [],
      "authorship_tag": "ABX9TyPNT+uO1e2BPX/4030bFT9N",
      "include_colab_link": true
    },
    "kernelspec": {
      "name": "python3",
      "display_name": "Python 3"
    },
    "language_info": {
      "name": "python"
    }
  },
  "cells": [
    {
      "cell_type": "markdown",
      "metadata": {
        "id": "view-in-github",
        "colab_type": "text"
      },
      "source": [
        "<a href=\"https://colab.research.google.com/github/LonzoVitch/Tareas-Prueba/blob/main/Intento_de_Programa.ipynb\" target=\"_parent\"><img src=\"https://colab.research.google.com/assets/colab-badge.svg\" alt=\"Open In Colab\"/></a>"
      ]
    },
    {
      "cell_type": "code",
      "metadata": {
        "colab": {
          "base_uri": "https://localhost:8080/"
        },
        "id": "M6xkvfxZotyP",
        "outputId": "b1f5be0c-d3f4-4d83-ba70-61d0ec7f733c"
      },
      "source": [
        "class Array:\n",
        "  def __init__ ( self , tam ):\n",
        "    self.__tamanio = tam\n",
        "    self.__data =[ 0 for x in range(self.__tamanio) ]\n",
        "\n",
        "  def to_string( self ):\n",
        "    info = \"\"\n",
        "    for dato in self.__data:\n",
        "      info = info + str(dato) + \"\"\n",
        "    return info\n",
        "\n",
        "  def get_item( self , index ):\n",
        "    return self.__data[index]\n",
        "\n",
        "  def get_lenght( self ):\n",
        "    return len( self.__data )\n",
        "\n",
        "  def set_item( self, dato, index):\n",
        "\n",
        "    if index >=0 and index < self.get_lenght():\n",
        "      self.__data[index] = dato\n",
        "    else:\n",
        "      print[\"Error: indice fuera de rango\"]\n",
        "\n",
        "    def clear(self, dato ):\n",
        "      self.__data = [dato for x in range(self.__tamanio) ]\n",
        "\n",
        "ejemplo = Array(20)\n",
        "print(ejemplo.to_string() )\n"
      ],
      "execution_count": 18,
      "outputs": [
        {
          "output_type": "stream",
          "name": "stdout",
          "text": [
            "00000000000000000000\n"
          ]
        }
      ]
    },
    {
      "cell_type": "code",
      "metadata": {
        "colab": {
          "base_uri": "https://localhost:8080/"
        },
        "id": "7I1ZDc0Klpin",
        "outputId": "020ab34c-6592-4e4a-9212-55d3f5cf9597"
      },
      "source": [
        "!cat junio.dat"
      ],
      "execution_count": 19,
      "outputs": [
        {
          "output_type": "stream",
          "name": "stdout",
          "text": [
            "numero de trabajador, nombres, paterno, materno, horas extra, sueldo base, año de ingreso\r\n",
            "2345,CARLOS,PEREZ,CASTILLO,0,9850,2017\r\n",
            "5754,ANGEL,GOMEZ,GARRIDO,1,9850,2020\r\n",
            "5345,JESUS,MARTIN,SANTOS,2,9850,2016\r\n",
            "3267,DAVID,JIMENEZ,LOZANO,2,9850,2017\r\n",
            "8765,PEDRO,RUIZ,GUERRERO,2,9850,2017\r\n",
            "5454,DANIEL,HERNANDEZ,CANO,3,9850,2018\r\n",
            "3456,ALEJANDRO,DIAZ,PRIETO,2,9850,2018\r\n",
            "3445,MARIA,MORENO,MENDEZ,1,9850,2018\r\n",
            "9088,ALBERTO,MU�OZ,CRUZ,1,9850,2017\r\n",
            "8877,RAFAEL,ALVAREZ,FLORES,2,9850,2017\r\n",
            "6767,FERNANDO,ROMERO,HERRERA,4,9850,2019\r\n",
            "5654,PABLO,ALONSO,GALLEGO,1,9850,2019\r\n",
            "4323,JORGE,GUTIERREZ,MARQUEZ,2,9850,2020\r\n",
            "2232,RAMON,NAVARRO,LEON,1,9850,2016"
          ]
        }
      ]
    },
    {
      "cell_type": "code",
      "metadata": {
        "colab": {
          "base_uri": "https://localhost:8080/"
        },
        "id": "VIpn-YCWnLAK",
        "outputId": "8991ad1f-f051-4586-a6b0-77e3f9a40bf4"
      },
      "source": [
        "archivo = open( 'junio.dat', 'rt', encoding='latin-1')\n",
        "print(archivo.read())"
      ],
      "execution_count": 31,
      "outputs": [
        {
          "output_type": "stream",
          "name": "stdout",
          "text": [
            "numero de trabajador, nombres, paterno, materno, horas extra, sueldo base, aÃ±o de ingreso\n",
            "2345,CARLOS,PEREZ,CASTILLO,0,9850,2017\n",
            "5754,ANGEL,GOMEZ,GARRIDO,1,9850,2020\n",
            "5345,JESUS,MARTIN,SANTOS,2,9850,2016\n",
            "3267,DAVID,JIMENEZ,LOZANO,2,9850,2017\n",
            "8765,PEDRO,RUIZ,GUERRERO,2,9850,2017\n",
            "5454,DANIEL,HERNANDEZ,CANO,3,9850,2018\n",
            "3456,ALEJANDRO,DIAZ,PRIETO,2,9850,2018\n",
            "3445,MARIA,MORENO,MENDEZ,1,9850,2018\n",
            "9088,ALBERTO,MUOZ,CRUZ,1,9850,2017\n",
            "8877,RAFAEL,ALVAREZ,FLORES,2,9850,2017\n",
            "6767,FERNANDO,ROMERO,HERRERA,4,9850,2019\n",
            "5654,PABLO,ALONSO,GALLEGO,1,9850,2019\n",
            "4323,JORGE,GUTIERREZ,MARQUEZ,2,9850,2020\n",
            "2232,RAMON,NAVARRO,LEON,1,9850,2016\n"
          ]
        }
      ]
    },
    {
      "cell_type": "code",
      "metadata": {
        "id": "D7s7w5m7n9aP",
        "colab": {
          "base_uri": "https://localhost:8080/"
        },
        "outputId": "57251367-a5e8-4160-9e6a-e451fdf7c5df"
      },
      "source": [
        "class Trabajador:\n",
        "  def __init__( self, nt, nom, pat, mat, he, sb, ai):\n",
        "    self.__numero_trabajador = nt\n",
        "    self.__nombre = nom\n",
        "    self.__paterno = pat\n",
        "    self.__materno = mat\n",
        "    self.__horas_extra = he\n",
        "    self.__sueldo_base = sb\n",
        "    self.__anio_ingreso = ai\n",
        "\n",
        "  def set_numero_trabajador( self, nt):\n",
        "    self.__numero_trabajador = nt\n",
        "  def get_numero_trabajador( self):\n",
        "    return self.__numero_trabajador\n",
        "\n",
        "  def set_nombre( self, nom):\n",
        "    self.__nombre = nom\n",
        "  def get_nombre( self):\n",
        "    return self.__nombre\n",
        "\n",
        "  def set_paterno( self, pat ):\n",
        "    self.__paterno = pat\n",
        "  def get_paterno( self):\n",
        "    return self.__paterno\n",
        "\n",
        "  def set_materno( self, mat ):\n",
        "    self.__materno = mat \n",
        "  def get_materno( self):\n",
        "    return self.__materno\n",
        "\n",
        "  def set_horas_extra( self, he ):\n",
        "    self.__horas_extra = he\n",
        "  def get_horas_extra( self):\n",
        "    return self.__horas_extra\n",
        "\n",
        "  def set_sueldo_base( self, sb):\n",
        "    self.__sueldo_base = sb\n",
        "  def get_sueldo_base( self ):\n",
        "    return self.__sueldo_base\n",
        "\n",
        "  def set_anio_ingreso( self, ai ):\n",
        "    self.__anio_ingreso = ai\n",
        "  def get_anio_ingreso( self):\n",
        "    return self.__anio_ingreso\n",
        "\n",
        "  def calcular_sueldo_mensual( self ):\n",
        "    anios = 2021 - self.get_anio_ingreso()\n",
        "   \n",
        "\n",
        "    sueldo = self.get_sueldo_base()\n",
        "    sueldo += self.get_horas_extra() * 276.5\n",
        "\n",
        "    sueldo = sueldo + (sueldo * anios * 0.03)\n",
        "    return sueldo\n",
        "\n",
        "  def to_string( self ):\n",
        "    return  '# %s. Nombre: %s %s %s. Sueldo: $%s' %(self.__numero_trabajador, self.__nombre, self.__paterno, self.__materno, str(self.calcular_sueldo_mensual()))\n",
        "\n",
        "  def calcular_antiguedad( self ):\n",
        "    return 2021 - self.get_anio_ingreso()\n",
        "\n",
        "emp = Trabajador( 2345, 'CARLOS', 'PEREZ', 'CASTILLO', 1, 9850, 2017 )\n",
        "print(emp.get_sueldo_base())\n",
        "print(emp.get_horas_extra())\n",
        "print(emp.calcular_antiguedad())\n",
        "print(emp.to_string())\n"
      ],
      "execution_count": 59,
      "outputs": [
        {
          "output_type": "stream",
          "name": "stdout",
          "text": [
            "9850\n",
            "1\n",
            "4\n",
            "# 2345. Nombre: CARLOS PEREZ CASTILLO. Sueldo: $11341.68\n"
          ]
        }
      ]
    },
    {
      "cell_type": "code",
      "metadata": {
        "id": "o9Q2P-eZqC-A",
        "colab": {
          "base_uri": "https://localhost:8080/"
        },
        "outputId": "9dbc8da0-4f4b-40e3-fb21-2f6ba9caa986"
      },
      "source": [
        "class NominaADT:\n",
        "  def __init__( self, ruta_archivo ):\n",
        "   archivo = open( ruta_archivo, 'rt' , encoding='latin-1')\n",
        "   empleados = archivo.readlines()\n",
        "   del empleados[0]\n",
        "   for index in range(len(empleados)):\n",
        "     empleados[index] = empleados[index].strip().split(',')\n",
        "   self.__data = Array( len(empleados) )\n",
        "   cont = 0\n",
        "   for emp in empleados:\n",
        "     tmp = Trabajador( int(emp[0]) , emp[1] , emp[2], (emp[3]), int(emp[4]) , int(emp[5]) , int(emp[6]) )\n",
        "     self.__data.set_item( tmp , cont )\n",
        "     cont += 1\n",
        "\n",
        "  def buscar_mayor_antiguedad (self):\n",
        "    for index in range(self.__data.get_lenght()):\n",
        "      print(str(self.__data.get_item(index).calcular_antiguedad()))\n",
        " \n",
        "  def calcular_sueldos( self ):\n",
        "    for index in range(self.__data.get_lenght()):\n",
        "        print(self.__data.get_item(index).to_string())\n",
        "\n",
        "ejemplo = NominaADT('junio.dat')\n",
        "ejemplo.calcular_sueldos()\n",
        "ejemplo.buscar_mayor_antiguedad()\n"
      ],
      "execution_count": 63,
      "outputs": [
        {
          "output_type": "stream",
          "name": "stdout",
          "text": [
            "# 2345. Nombre: CARLOS PEREZ CASTILLO. Sueldo: $11032.0\n",
            "# 5754. Nombre: ANGEL GOMEZ GARRIDO. Sueldo: $10430.295\n",
            "# 5345. Nombre: JESUS MARTIN SANTOS. Sueldo: $11963.45\n",
            "# 3267. Nombre: DAVID JIMENEZ LOZANO. Sueldo: $11651.36\n",
            "# 8765. Nombre: PEDRO RUIZ GUERRERO. Sueldo: $11651.36\n",
            "# 5454. Nombre: DANIEL HERNANDEZ CANO. Sueldo: $11640.655\n",
            "# 3456. Nombre: ALEJANDRO DIAZ PRIETO. Sueldo: $11339.27\n",
            "# 3445. Nombre: MARIA MORENO MENDEZ. Sueldo: $11037.885\n",
            "# 9088. Nombre: ALBERTO MUOZ CRUZ. Sueldo: $11341.68\n",
            "# 8877. Nombre: RAFAEL ALVAREZ FLORES. Sueldo: $11651.36\n",
            "# 6767. Nombre: FERNANDO ROMERO HERRERA. Sueldo: $11613.36\n",
            "# 5654. Nombre: PABLO ALONSO GALLEGO. Sueldo: $10734.09\n",
            "# 4323. Nombre: JORGE GUTIERREZ MARQUEZ. Sueldo: $10715.09\n",
            "# 2232. Nombre: RAMON NAVARRO LEON. Sueldo: $11645.475\n",
            "4\n",
            "1\n",
            "5\n",
            "4\n",
            "4\n",
            "3\n",
            "3\n",
            "3\n",
            "4\n",
            "4\n",
            "2\n",
            "2\n",
            "1\n",
            "5\n"
          ]
        }
      ]
    }
  ]
}