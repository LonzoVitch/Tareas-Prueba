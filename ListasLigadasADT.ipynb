{
  "nbformat": 4,
  "nbformat_minor": 0,
  "metadata": {
    "colab": {
      "name": "ListasLigadasADT",
      "provenance": [],
      "authorship_tag": "ABX9TyOn2zB52Y8iZEcBEGWtj/A8",
      "include_colab_link": true
    },
    "kernelspec": {
      "name": "python3",
      "display_name": "Python 3"
    },
    "language_info": {
      "name": "python"
    }
  },
  "cells": [
    {
      "cell_type": "markdown",
      "metadata": {
        "id": "view-in-github",
        "colab_type": "text"
      },
      "source": [
        "<a href=\"https://colab.research.google.com/github/LonzoVitch/Tareas-Prueba/blob/main/ListasLigadasADT.ipynb\" target=\"_parent\"><img src=\"https://colab.research.google.com/assets/colab-badge.svg\" alt=\"Open In Colab\"/></a>"
      ]
    },
    {
      "cell_type": "code",
      "metadata": {
        "id": "H6PKkf_u3Tdp"
      },
      "source": [
        "class Nodo:\n",
        "  def __init__(self, value, siguiente = None):\n",
        "    self.data = value\n",
        "    self.next = siguiente\n",
        "    "
      ],
      "execution_count": 3,
      "outputs": []
    },
    {
      "cell_type": "code",
      "metadata": {
        "id": "pvEpWe0n3gu2",
        "colab": {
          "base_uri": "https://localhost:8080/"
        },
        "outputId": "32c1f50f-750c-45e7-f563-b94ef3fd8ce6"
      },
      "source": [
        "head = Nodo(10)\n",
        "print( head.data )"
      ],
      "execution_count": 4,
      "outputs": [
        {
          "output_type": "stream",
          "name": "stdout",
          "text": [
            "10\n"
          ]
        }
      ]
    },
    {
      "cell_type": "code",
      "metadata": {
        "id": "3tsCL_f63oCr",
        "colab": {
          "base_uri": "https://localhost:8080/"
        },
        "outputId": "177d30c0-6708-4f6b-a26f-b169e2fa29b8"
      },
      "source": [
        "head  = Nodo(10)\n",
        "head.next = Nodo(20)\n",
        "print(f\"Primero={head.data}\")\n",
        "print(f\"Segundo={head.next.data}\")\n",
        "\n",
        "\n",
        "\n",
        "head = Nodo(10, Nodo(20))\n",
        "print(f\"Primero={ head.data}\")\n",
        "print(f\"Segundo={ head.next.data}\")\n",
        "\n",
        "\n",
        "curr_node = head\n",
        "while curr_node != None:\n",
        "  print(f\"| {curr_node.data} | --> \", end=\"\")\n",
        "  curr_node = curr_node.next\n",
        "print(\"\")\n",
        "\n"
      ],
      "execution_count": 5,
      "outputs": [
        {
          "output_type": "stream",
          "name": "stdout",
          "text": [
            "Primero=10\n",
            "Segundo=20\n",
            "Primero=10\n",
            "Segundo=20\n",
            "| 10 | --> | 20 | --> \n"
          ]
        }
      ]
    },
    {
      "cell_type": "code",
      "metadata": {
        "colab": {
          "base_uri": "https://localhost:8080/"
        },
        "id": "w0JO9HfX7b3T",
        "outputId": "9b925e64-1ec8-42de-ff5a-56f67b4e7699"
      },
      "source": [
        "head = Nodo(10, Nodo(20, Nodo(30, Nodo(40))))\n",
        "\n",
        "\n",
        "curr_node = head\n",
        "while curr_node != None:\n",
        "  print(f\"| {curr_node.data } | --> \", end=\"\")\n",
        "  curr_node= curr_node.next\n",
        "print(\"\")\n",
        "\n",
        "print(head.data)\n",
        "curr_node = head\n",
        "while curr_node.next != None:\n",
        "  curr_node= curr_node.next\n",
        "print(curr_node.data)\n",
        "\n",
        "curr_node = head\n",
        "while curr_node.data != 20:\n",
        "  curr_node = curr_node.next\n",
        "print(curr_node.data)\n",
        "\n",
        "#crear nodo 25\n",
        "curr_node.next = Nodo (25,curr_node.next)\n",
        "print(\"Despues de insertar 25\")\n",
        "\n"
      ],
      "execution_count": 10,
      "outputs": [
        {
          "output_type": "stream",
          "name": "stdout",
          "text": [
            "| 10 | --> | 20 | --> | 30 | --> | 40 | --> \n",
            "10\n",
            "40\n",
            "20\n",
            "Despues de insertar 25\n",
            "20\n"
          ]
        }
      ]
    },
    {
      "cell_type": "code",
      "metadata": {
        "id": "ZvLObmurc2Ie"
      },
      "source": [
        "class LinkedList:\n",
        "  def __init__( self ):\n",
        "    self.head = None\n",
        "\n",
        "  def is_empty( self ):\n",
        "    return self.head == None\n",
        "\n",
        "  def get_tail( self ):\n",
        "    if self.is_empty():\n",
        "      return None\n",
        "    else:\n",
        "      curr_node = self.head\n",
        "      return \n",
        "      curr_node = self.head\n",
        "      while curr_node.next != None:\n",
        "        curr_node = curr_node.next\n",
        "      return curr_node\n",
        "\n",
        "  def append( self, value ):\n",
        "    if self.head == None:\n",
        "      self.head = Nodo ( value)\n",
        "    else:\n",
        "      curr_node = self.head\n",
        "      while curr_node.next != None:\n",
        "        curr_node = curr_node.next\n",
        "      curr_node.next = Nodo(value)\n",
        "\n",
        "  def transversal( self ):\n",
        "    curr_node = self.head\n",
        "    while curr_node != None:\n",
        "      print(f\"| { curr_node.data} | -->\", end= \"\")\n",
        "      curr_node = curr_node.next\n",
        "    print(\"\")\n",
        "\n",
        "  def remove( self, value ):\n",
        "    if self.head == None:\n",
        "      print(\"Lista vacia, no se puede remover nada\")\n",
        "    else:\n",
        "      curr_node = self.head\n",
        "      aux = None\n",
        "      while curr_node.data != value : #Revusar cuando el valor no exista\n",
        "        aux = curr_node\n",
        "        curr_node = curr_node.next\n",
        "\n",
        "      if curr_node != None:\n",
        "        aux.next = curr_node.next\n",
        "        curr_node = None\n",
        "\n",
        "  def preppend( self, value ):\n",
        "      if self.head == None:\n",
        "        print(\" Esta vacio, no se puede hacer preppend\")\n",
        "      else:\n",
        "        aux = self.head\n",
        "        self.head = Nodo ( value, aux)\n",
        "\n",
        "\n"
      ],
      "execution_count": 46,
      "outputs": []
    },
    {
      "cell_type": "code",
      "metadata": {
        "colab": {
          "base_uri": "https://localhost:8080/"
        },
        "id": "C7RBi1FpfqtQ",
        "outputId": "d933acf7-fe76-47d0-d77f-890bd619c79f"
      },
      "source": [
        "lista = LinkedList()\n",
        "if lista.is_empty():\n",
        "  print(\"La lista esta vacia\")\n",
        "else: \n",
        "  print(\"La lista no esta vacia\")\n",
        "\n",
        "lista.append(10)\n",
        "lista.append(20)\n",
        "lista.append(30)\n",
        "lista.append(40)\n",
        "lista.append(50)\n",
        "\n",
        "nodo= lista.get_tail()\n",
        "if nodo != None :\n",
        "  print(nodo.data)\n",
        "else:\n",
        "  print(\"Lista esta vacia\")\n",
        "\n",
        "lista.transversal()\n",
        "lista.remove(30)\n",
        "lista.transversal()\n",
        "lista.preppend(5)\n",
        "lista.transversal()"
      ],
      "execution_count": 47,
      "outputs": [
        {
          "output_type": "stream",
          "name": "stdout",
          "text": [
            "La lista esta vacia\n",
            "Lista esta vacia\n",
            "| 10 | -->| 20 | -->| 30 | -->| 40 | -->| 50 | -->\n",
            "| 10 | -->| 20 | -->| 40 | -->| 50 | -->\n",
            "| 5 | -->| 10 | -->| 20 | -->| 40 | -->| 50 | -->\n"
          ]
        }
      ]
    }
  ]
}