{
  "nbformat": 4,
  "nbformat_minor": 0,
  "metadata": {
    "colab": {
      "name": "Pilas.ipynb",
      "provenance": [],
      "authorship_tag": "ABX9TyPtJwmu8qXZD8ZdaLDgcOht",
      "include_colab_link": true
    },
    "kernelspec": {
      "name": "python3",
      "display_name": "Python 3"
    },
    "language_info": {
      "name": "python"
    }
  },
  "cells": [
    {
      "cell_type": "markdown",
      "metadata": {
        "id": "view-in-github",
        "colab_type": "text"
      },
      "source": [
        "<a href=\"https://colab.research.google.com/github/LonzoVitch/Tareas-Prueba/blob/main/Pilas.ipynb\" target=\"_parent\"><img src=\"https://colab.research.google.com/assets/colab-badge.svg\" alt=\"Open In Colab\"/></a>"
      ]
    },
    {
      "cell_type": "code",
      "metadata": {
        "id": "rqaecD2uM1US"
      },
      "source": [
        "class StackADT:\n",
        "  def __init__( self ):\n",
        "    self.__data = list()\n",
        "\n",
        " #Regresa true si la pila esta vacía\n",
        "  def is_empty( self ):\n",
        "    return len( self.__data ) == 0\n",
        "\n",
        "  def get_length( self ):\n",
        "    return len(self.__data )\n",
        "\n",
        "  def pop( self ):\n",
        "    if self.is_empty():\n",
        "      print(\"Pila vacía\")\n",
        "    else: \n",
        "      return self.__data.pop()\n",
        "\n",
        "  def peek( self ):\n",
        "     if self.is_empty():\n",
        "      print(\"Pila vacía\")\n",
        "     else: \n",
        "      return self.__data[ -1 ]\n",
        "\n",
        "  def push( self, value ):\n",
        "    self.__data.append( value )\n",
        "\n",
        "  def to_string( self ):\n",
        "    for item in self.__data[::-1]:\n",
        "      print(f\"| { item } | \")\n"
      ],
      "execution_count": 2,
      "outputs": []
    },
    {
      "cell_type": "code",
      "metadata": {
        "id": "eWDMaa11Qc5I"
      },
      "source": [
        "pila = StackADT()\n",
        "print(\"¿Esta vacía? = \", pila.is_empty() )\n",
        "print(\"# Elementos:\" , pila.get_length() )\n",
        "pila.push(10)\n",
        "print(\"¿Esta vacía? = \", pila.is_empty() )\n",
        "print(\"# Elementos:\" , pila.get_length() )\n",
        "pila.push(20)\n",
        "pila.push(30)\n",
        "pila.push(40)\n",
        "pila.to_string()\n",
        "print(pila.pop())   # 40\n",
        "print(pila.peek() ) # 30\n",
        "pila.to_string()"
      ],
      "execution_count": null,
      "outputs": []
    },
    {
      "cell_type": "markdown",
      "metadata": {
        "id": "oquQIKKJykfR"
      },
      "source": [
        "Aplicación de pilas, balanceo de llaves en programación\n",
        "\n",
        "\n",
        "1.- Hacer unprograma que impemente el algoritmo de pila vacía para verificar balanceo de llaves ( '{' y '}') y balanceo de parénteisis ( '(' y ')') para codigo de programacion C y, C++ y Java. Tiene que detener el análisis cuando se detcte que los parecentesis o llaves estan desbalanceados\n",
        "\n",
        "Idealmente (No obligatorio) encapsular esta lógica en una clase (ADT) de la POO\n",
        "\n",
        "\n",
        "\n",
        "\n"
      ]
    },
    {
      "cell_type": "code",
      "metadata": {
        "colab": {
          "base_uri": "https://localhost:8080/"
        },
        "id": "DYbzRjUyzPQN",
        "outputId": "ea0c769d-12f4-4d79-9e90-c780533dfdbb"
      },
      "source": [
        "!cat prog.txt"
      ],
      "execution_count": 5,
      "outputs": [
        {
          "output_type": "stream",
          "name": "stdout",
          "text": [
            "#include <stdio.h>\r\n",
            "int main()\r\n",
            "{\r\n",
            "    int num, count, sum = 0;\r\n",
            "\r\n",
            "    printf(\"Enter a positive integer: \");\r\n",
            "    scanf(\"%d\", &num);\r\n",
            "\r\n",
            "    // for loop terminates when num is less than count\r\n",
            "    for(count = 1; count <= num; ++count)\r\n",
            "    {\r\n",
            "        sum += count;\r\n",
            "    }\r\n",
            "\r\n",
            "    printf(\"Sum = %d\", sum);\r\n",
            "\r\n",
            "    return 0;\r\n",
            "}\r\n"
          ]
        }
      ]
    },
    {
      "cell_type": "code",
      "metadata": {
        "colab": {
          "base_uri": "https://localhost:8080/"
        },
        "id": "FIeJRHi2yilY",
        "outputId": "73f17205-d9b7-41e1-8586-27d547d90292"
      },
      "source": [
        "entrada = open('prog.txt' , 'rt')\n",
        "codigo = entrada.read()\n",
        "#print( codigo )\n",
        "pilaControl = StackADT()\n",
        "pilaControl.push(\"#\") #Caracter de pila vacia\n",
        "\n",
        "for letra in codigo:\n",
        "  #print(f\"--> { letra } <--\")\n",
        "  if letra == '{':\n",
        "    pilaControl.push(\"{\")\n",
        "  elif letra == '}':\n",
        "    basura = pilaControl.pop()\n",
        "  else: \n",
        "    pass\n",
        "\n",
        "#NOTA: Este código aún no contempla desbalanceo\n",
        "if pilaControl.peek() =='#':\n",
        "  print(\"El código proporcionado esta correctamente balanceado\")\n",
        "else:\n",
        "  print(\"El código no esta balanceado en llaves { y }\") "
      ],
      "execution_count": 18,
      "outputs": [
        {
          "output_type": "stream",
          "name": "stdout",
          "text": [
            "El código proporcionado esta correctamente balanceado\n"
          ]
        }
      ]
    },
    {
      "cell_type": "markdown",
      "metadata": {
        "id": "G4PqMZ757JiG"
      },
      "source": [
        "#Aplicacion de Pilas\n",
        "\n",
        "##Estrategias de diseño de algoritmos BACKTRACKING\n"
      ]
    },
    {
      "cell_type": "code",
      "metadata": {
        "id": "-rN8KLIk7RNa"
      },
      "source": [
        ""
      ],
      "execution_count": null,
      "outputs": []
    }
  ]
}