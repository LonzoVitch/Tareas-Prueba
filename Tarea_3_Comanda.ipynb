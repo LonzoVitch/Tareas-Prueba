{
  "nbformat": 4,
  "nbformat_minor": 0,
  "metadata": {
    "colab": {
      "name": "Tarea 3 - Comanda",
      "provenance": [],
      "authorship_tag": "ABX9TyOJxNzenBk9UPOTbZ8k5+Nb",
      "include_colab_link": true
    },
    "kernelspec": {
      "name": "python3",
      "display_name": "Python 3"
    },
    "language_info": {
      "name": "python"
    }
  },
  "cells": [
    {
      "cell_type": "markdown",
      "metadata": {
        "id": "view-in-github",
        "colab_type": "text"
      },
      "source": [
        "<a href=\"https://colab.research.google.com/github/LonzoVitch/Tareas-Prueba/blob/main/Tarea_3_Comanda.ipynb\" target=\"_parent\"><img src=\"https://colab.research.google.com/assets/colab-badge.svg\" alt=\"Open In Colab\"/></a>"
      ]
    },
    {
      "cell_type": "code",
      "metadata": {
        "colab": {
          "base_uri": "https://localhost:8080/"
        },
        "id": "che_FQnxMFe8",
        "outputId": "2cb5f48f-2472-45f9-a3af-7dcdc546db23"
      },
      "source": [
        "mesa = input('Numero de mesa ')\n",
        "comensal= input('Comensal ')\n",
        "entrada= input('¿Que gusta de entrada? ')\n",
        "medio= input('¿Que gusta de medio tiempo? ')\n",
        "fuerte= input('¿Que gusta de plato fuerte? ')\n",
        "adicional= input('¿Alguna instruccion extra para sus platillos?')\n",
        "\n",
        "print(f\"MESA: {mesa}\")\n",
        "print(f\"COMENSAL: {comensal}\")\n",
        "print(f\"ENTRADA: {entrada}\")\n",
        "print(f\"MEDIO: {medio}\")\n",
        "print(f\"FUERTE: {fuerte}\")\n",
        "print(f\"ADICIONAL: {adicional}\")"
      ],
      "execution_count": 10,
      "outputs": [
        {
          "output_type": "stream",
          "name": "stdout",
          "text": [
            "Numero de mesa 2\n",
            "Comensal Javier\n",
            "¿Que gusta de entrada? Pan\n",
            "¿Que gusta de medio tiempo? Arroz con atun\n",
            "¿Que gusta de plato fuerte? Paeya\n",
            "¿Alguna instruccion extra para sus platillos?Pan integral\n",
            "MESA: 2\n",
            "COMENSAL: Javier\n",
            "ENTRADA: Pan\n",
            "MEDIO: Arroz con atun\n",
            "FUERTE: Paeya\n",
            "ADICIONAL: Pan integral\n"
          ]
        }
      ]
    }
  ]
}