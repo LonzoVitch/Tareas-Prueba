{
  "nbformat": 4,
  "nbformat_minor": 0,
  "metadata": {
    "colab": {
      "name": "Tarea 4 - Chicharronera",
      "provenance": [],
      "collapsed_sections": [],
      "authorship_tag": "ABX9TyN9P3lG805Crj9671TseGsu",
      "include_colab_link": true
    },
    "kernelspec": {
      "name": "python3",
      "display_name": "Python 3"
    },
    "language_info": {
      "name": "python"
    }
  },
  "cells": [
    {
      "cell_type": "markdown",
      "metadata": {
        "id": "view-in-github",
        "colab_type": "text"
      },
      "source": [
        "<a href=\"https://colab.research.google.com/github/LonzoVitch/Tareas-Prueba/blob/main/Tarea_4_Chicharronera.ipynb\" target=\"_parent\"><img src=\"https://colab.research.google.com/assets/colab-badge.svg\" alt=\"Open In Colab\"/></a>"
      ]
    },
    {
      "cell_type": "code",
      "metadata": {
        "id": "FtnaXRB60IjD"
      },
      "source": [
        "a= float(input('Introduzca el valor de a: '))\n",
        "b= float(input('Introduzca el valor de b: '))\n",
        "c= float(input('Introduzca el valor de c: '))\n",
        "\n",
        "x1=(-b+(((b**2)-(4*a*c))**0.5))/(2*a)\n",
        "\n",
        "x2=(b+(((b**2)-(4*a*c))**0.5))/(2*a)\n",
        "\n",
        "print('El valor de X1 es:')\n",
        "print(x1)\n",
        "print('El valor de X2 es:')\n",
        "print(x2)"
      ],
      "execution_count": null,
      "outputs": []
    }
  ]
}